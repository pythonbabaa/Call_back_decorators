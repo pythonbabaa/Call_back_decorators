{
 "cells": [
  {
   "cell_type": "code",
   "execution_count": 1,
   "id": "a7c57e9f",
   "metadata": {},
   "outputs": [],
   "source": [
    "# to enforce the order of operations that we want, we use callback.\n",
    "# callback is when we provide a function as an argument to another function.\n",
    "# By doing this we are enforcing an order of operation that is useful to us.\n",
    "# we will pass whole function (without brackets) and then we will call it in other function's body.\n",
    "\n",
    "# call back is the essence of asynchronous programming. It is defined as:\n",
    "# A form of computer control timing proctol in which a specific operation begins upon receipt of an idication (signal) that the preceding operation has been completed.\n"
   ]
  },
  {
   "cell_type": "markdown",
   "id": "7823efdc",
   "metadata": {},
   "source": [
    "## callback example 1"
   ]
  },
  {
   "cell_type": "code",
   "execution_count": 2,
   "id": "25b03937",
   "metadata": {},
   "outputs": [],
   "source": [
    "import time\n",
    "from multiprocessing import Process"
   ]
  },
  {
   "cell_type": "markdown",
   "id": "b2b9c9f4",
   "metadata": {},
   "source": [
    "__Without callback__"
   ]
  },
  {
   "cell_type": "code",
   "execution_count": 3,
   "id": "d18fd3cb",
   "metadata": {},
   "outputs": [
    {
     "name": "stdout",
     "output_type": "stream",
     "text": [
      "['sam', 'ellie', 'bernie']\n"
     ]
    }
   ],
   "source": [
    "users = ['sam', 'ellie', 'bernie']\n",
    "\n",
    "def adduser(username):\n",
    "    time.sleep(1)\n",
    "    users.append(username)\n",
    "    \n",
    "    \n",
    "def getuser():\n",
    "    time.sleep(5)\n",
    "    print(users)\n",
    "\n",
    "if __name__ == '__main__':\n",
    "    p1 = Process(target=adduser, args = ('Jake',))\n",
    "    p1.start()\n",
    "    p2 = Process(target=getuser)\n",
    "    p2.start()"
   ]
  },
  {
   "cell_type": "code",
   "execution_count": 4,
   "id": "48790569",
   "metadata": {},
   "outputs": [],
   "source": [
    "adduser('jake')"
   ]
  },
  {
   "cell_type": "code",
   "execution_count": 5,
   "id": "67af8c75",
   "metadata": {},
   "outputs": [
    {
     "name": "stdout",
     "output_type": "stream",
     "text": [
      "['sam', 'ellie', 'bernie', 'jake']\n"
     ]
    }
   ],
   "source": [
    "getuser()"
   ]
  },
  {
   "cell_type": "markdown",
   "id": "e8b830ee",
   "metadata": {},
   "source": [
    "__with callback__"
   ]
  },
  {
   "cell_type": "code",
   "execution_count": 6,
   "id": "a10fd3ed",
   "metadata": {},
   "outputs": [],
   "source": [
    "users = ['sam', 'ellie', 'bernie']\n",
    "\n",
    "def adduser(username, callback):\n",
    "    time.sleep(5)\n",
    "    users.append(username)\n",
    "    callback()\n",
    "    \n",
    "def getuser():\n",
    "    print(users)"
   ]
  },
  {
   "cell_type": "code",
   "execution_count": 7,
   "id": "a41a540b",
   "metadata": {},
   "outputs": [
    {
     "name": "stdout",
     "output_type": "stream",
     "text": [
      "['sam', 'ellie', 'bernie', 'jake']\n"
     ]
    }
   ],
   "source": [
    "adduser('jake', getuser)"
   ]
  },
  {
   "cell_type": "markdown",
   "id": "7cd7e15f",
   "metadata": {},
   "source": [
    "## example 2"
   ]
  },
  {
   "cell_type": "code",
   "execution_count": 8,
   "id": "f69f7399",
   "metadata": {},
   "outputs": [],
   "source": [
    "def print_hello():\n",
    "    print('Hello')\n",
    "def print_goodbye():\n",
    "    print('Goodbye')\n",
    "def print_aloha():\n",
    "    print('Aloha')"
   ]
  },
  {
   "cell_type": "code",
   "execution_count": 9,
   "id": "b6732092",
   "metadata": {},
   "outputs": [
    {
     "name": "stdout",
     "output_type": "stream",
     "text": [
      "Goodbye\n"
     ]
    }
   ],
   "source": [
    "a = 1\n",
    "if a == 0:\n",
    "    print_hello()\n",
    "elif a == 1:\n",
    "    print_goodbye()\n",
    "elif a == 2:\n",
    "    print_aloha()"
   ]
  },
  {
   "cell_type": "code",
   "execution_count": 10,
   "id": "13243733",
   "metadata": {},
   "outputs": [],
   "source": [
    "my_functions = [print_hello, print_goodbye, print_aloha]"
   ]
  },
  {
   "cell_type": "code",
   "execution_count": 11,
   "id": "b3974624",
   "metadata": {},
   "outputs": [
    {
     "name": "stdout",
     "output_type": "stream",
     "text": [
      "Hello\n"
     ]
    }
   ],
   "source": [
    "my_functions[0]()"
   ]
  },
  {
   "cell_type": "code",
   "execution_count": 12,
   "id": "ae0a3600",
   "metadata": {},
   "outputs": [
    {
     "data": {
      "text/plain": [
       "<function __main__.print_hello()>"
      ]
     },
     "execution_count": 12,
     "metadata": {},
     "output_type": "execute_result"
    }
   ],
   "source": [
    "my_functions[0]"
   ]
  },
  {
   "cell_type": "code",
   "execution_count": 13,
   "id": "86df334b",
   "metadata": {},
   "outputs": [],
   "source": [
    "my_func = print"
   ]
  },
  {
   "cell_type": "code",
   "execution_count": 14,
   "id": "e9a654cd",
   "metadata": {},
   "outputs": [
    {
     "data": {
      "text/plain": [
       "<function print>"
      ]
     },
     "execution_count": 14,
     "metadata": {},
     "output_type": "execute_result"
    }
   ],
   "source": [
    "my_func"
   ]
  },
  {
   "cell_type": "code",
   "execution_count": 15,
   "id": "3550ae6c",
   "metadata": {},
   "outputs": [
    {
     "name": "stdout",
     "output_type": "stream",
     "text": [
      "Hello\n"
     ]
    }
   ],
   "source": [
    "my_func('Hello')"
   ]
  },
  {
   "cell_type": "markdown",
   "id": "663063ce",
   "metadata": {},
   "source": [
    "# Decorators\n",
    "\n",
    "__First-class Object__ In python, everything is treated as an object including all the data types, functions too. Therefore a function is also known as a first-class object and can be passed around as an argument.\n",
    "\n",
    "__Inner-function__ It is possible to define functions inside a function. That function is called an inner function.\n",
    "\n",
    "We can put function in a function as an argument, because in python every thing is an object.\n",
    "\n",
    "__Decorators__ in python are very powerful which modify the behavior of a function without modifying it permanently. It bascically wraps another function and since both functions are callable, it reutrns a callable."
   ]
  },
  {
   "cell_type": "code",
   "execution_count": 16,
   "id": "b3621ee5",
   "metadata": {},
   "outputs": [
    {
     "name": "stdout",
     "output_type": "stream",
     "text": [
      "subscribe now\n"
     ]
    }
   ],
   "source": [
    "def function1():\n",
    "    print(\"subscribe now\")\n",
    "    \n",
    "func2 = function1\n",
    "func2()"
   ]
  },
  {
   "cell_type": "code",
   "execution_count": 17,
   "id": "2244f3be",
   "metadata": {},
   "outputs": [
    {
     "name": "stdout",
     "output_type": "stream",
     "text": [
      "<class 'int'>\n",
      "0\n"
     ]
    }
   ],
   "source": [
    "def funcret(num):\n",
    "    if num==0:\n",
    "        return print\n",
    "    if num==1:\n",
    "        return int\n",
    "    \n",
    "a = funcret(1)\n",
    "print(a)\n",
    "print(a())"
   ]
  },
  {
   "cell_type": "code",
   "execution_count": 18,
   "id": "24984ef4",
   "metadata": {},
   "outputs": [
    {
     "name": "stdout",
     "output_type": "stream",
     "text": [
      "this\n"
     ]
    }
   ],
   "source": [
    "def executor(func):\n",
    "    func('this')\n",
    "    \n",
    "executor(print)"
   ]
  },
  {
   "cell_type": "markdown",
   "id": "322f867a",
   "metadata": {},
   "source": [
    "__decorator__\n",
    "\n",
    "__example 1__"
   ]
  },
  {
   "cell_type": "code",
   "execution_count": 19,
   "id": "75d277cb",
   "metadata": {},
   "outputs": [],
   "source": [
    "def decorator1(func1):\n",
    "    def nowexec():\n",
    "        print('Executing now')\n",
    "        func1()\n",
    "        print('Executed')\n",
    "    return nowexec"
   ]
  },
  {
   "cell_type": "code",
   "execution_count": 20,
   "id": "63e19839",
   "metadata": {},
   "outputs": [],
   "source": [
    "def whoisharry():\n",
    "    print('harry is a good boy')"
   ]
  },
  {
   "cell_type": "code",
   "execution_count": 21,
   "id": "b8b8ba03",
   "metadata": {},
   "outputs": [
    {
     "name": "stdout",
     "output_type": "stream",
     "text": [
      "harry is a good boy\n"
     ]
    }
   ],
   "source": [
    "whoisharry()"
   ]
  },
  {
   "cell_type": "code",
   "execution_count": 22,
   "id": "8b8d64e3",
   "metadata": {},
   "outputs": [],
   "source": [
    "whoisharry = decorator1(whoisharry)"
   ]
  },
  {
   "cell_type": "code",
   "execution_count": 23,
   "id": "6493d01a",
   "metadata": {},
   "outputs": [
    {
     "name": "stdout",
     "output_type": "stream",
     "text": [
      "Executing now\n",
      "harry is a good boy\n",
      "Executed\n"
     ]
    }
   ],
   "source": [
    "whoisharry()"
   ]
  },
  {
   "cell_type": "code",
   "execution_count": 24,
   "id": "4f2aee4d",
   "metadata": {},
   "outputs": [],
   "source": [
    "# another way to do whoisharry = decorator1(whoisharry) is\n",
    "@decorator1\n",
    "def whoisharry():\n",
    "    print('harry is a good boy')\n"
   ]
  },
  {
   "cell_type": "code",
   "execution_count": 25,
   "id": "cfd210a8",
   "metadata": {},
   "outputs": [
    {
     "name": "stdout",
     "output_type": "stream",
     "text": [
      "Executing now\n",
      "harry is a good boy\n",
      "Executed\n"
     ]
    }
   ],
   "source": [
    "whoisharry()"
   ]
  },
  {
   "cell_type": "markdown",
   "id": "9283b8b4",
   "metadata": {},
   "source": [
    "__example 2__"
   ]
  },
  {
   "cell_type": "code",
   "execution_count": 40,
   "id": "a27f6b53",
   "metadata": {},
   "outputs": [
    {
     "name": "stdout",
     "output_type": "stream",
     "text": [
      "Started\n",
      "Hello\n",
      "Ended\n",
      "Started\n",
      "Hello\n",
      "Ended\n",
      "Started\n",
      "Hi 9\n",
      "Ended\n",
      "Started\n",
      "Ended\n",
      "9\n"
     ]
    }
   ],
   "source": [
    "def f1(func):\n",
    "    def wrapper(*args, **kwargs):\n",
    "        print(\"Started\")\n",
    "        val = func(*args, **kwargs)\n",
    "        print(\"Ended\")\n",
    "        return val\n",
    "    return wrapper\n",
    "\n",
    "def f():\n",
    "    print('Hello')\n",
    "    \n",
    "f1(f)()\n",
    "\n",
    "f = f1(f)\n",
    "f()\n",
    "\n",
    "@f1\n",
    "def f(a, b=9):\n",
    "    print(a, b)\n",
    "    \n",
    "f(\"Hi\")\n",
    "\n",
    "@f1\n",
    "def add(x,y):\n",
    "    return x + y\n",
    "\n",
    "print(add(4,5))"
   ]
  },
  {
   "cell_type": "markdown",
   "id": "02fddfa3",
   "metadata": {},
   "source": [
    "### For more explanation about decorators, visit:\n",
    "\n",
    "https://stackoverflow.com/questions/19497771/python-decorators-call-in-class"
   ]
  },
  {
   "cell_type": "code",
   "execution_count": null,
   "id": "140332a1",
   "metadata": {},
   "outputs": [],
   "source": []
  }
 ],
 "metadata": {
  "kernelspec": {
   "display_name": "Python 3",
   "language": "python",
   "name": "python3"
  },
  "language_info": {
   "codemirror_mode": {
    "name": "ipython",
    "version": 3
   },
   "file_extension": ".py",
   "mimetype": "text/x-python",
   "name": "python",
   "nbconvert_exporter": "python",
   "pygments_lexer": "ipython3",
   "version": "3.8.8"
  }
 },
 "nbformat": 4,
 "nbformat_minor": 5
}
